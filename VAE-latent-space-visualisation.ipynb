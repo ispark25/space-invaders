{
 "cells": [
  {
   "cell_type": "code",
   "execution_count": 1,
   "metadata": {},
   "outputs": [],
   "source": [
    "%matplotlib inline\n",
    "import numpy as np\n",
    "import matplotlib.pyplot as plt\n",
    "import seaborn as sns; sns.set()"
   ]
  },
  {
   "cell_type": "code",
   "execution_count": 2,
   "metadata": {},
   "outputs": [],
   "source": [
    "import numpy as np\n",
    "import os"
   ]
  },
  {
   "cell_type": "code",
   "execution_count": 3,
   "metadata": {},
   "outputs": [
    {
     "name": "stderr",
     "output_type": "stream",
     "text": [
      "Using TensorFlow backend.\n"
     ]
    },
    {
     "name": "stdout",
     "output_type": "stream",
     "text": [
      "WARNING:tensorflow:From C:\\Program Files (x86)\\Microsoft Visual Studio\\Shared\\Anaconda3_64\\envs\\racer\\lib\\site-packages\\tensorflow\\python\\framework\\op_def_library.py:263: colocate_with (from tensorflow.python.framework.ops) is deprecated and will be removed in a future version.\n",
      "Instructions for updating:\n",
      "Colocations handled automatically by placer.\n"
     ]
    }
   ],
   "source": [
    "from vae.arch_surprise_lower_tolerance import VAE\n",
    "vae = VAE()\n",
    "vae.set_weights('./vae/weight/best/arch_surprise_medium_tolerance.h5')"
   ]
  },
  {
   "cell_type": "code",
   "execution_count": 5,
   "metadata": {},
   "outputs": [
    {
     "name": "stdout",
     "output_type": "stream",
     "text": [
      "loaded file: 1000393812.npz\n",
      "shape: (818, 64, 64, 3)\n",
      "loaded file: 1000484239.npz\n",
      "shape: (996, 64, 64, 3)\n",
      "loaded file: 100057874.npz\n",
      "shape: (980, 64, 64, 3)\n",
      "loaded file: 1000585003.npz\n",
      "shape: (1027, 64, 64, 3)\n",
      "loaded file: 1000626761.npz\n",
      "shape: (801, 64, 64, 3)\n",
      "final shape: (4622, 64, 64, 3)\n"
     ]
    }
   ],
   "source": [
    "DIR_NAME = './data/vae_food_3/'\n",
    "\n",
    "observations = []\n",
    "\n",
    "files = os.listdir(DIR_NAME)\n",
    "for i in range(5):\n",
    "    file = files[i]\n",
    "    print(f'loaded file: {file}')\n",
    "    \n",
    "    obs = np.load(DIR_NAME + file)['obs']\n",
    "    print(f'shape: {obs.shape}')\n",
    "    \n",
    "    observations.append(obs)\n",
    "    \n",
    "observations = np.concatenate(observations)\n",
    "print(f'final shape: {observations.shape}')"
   ]
  },
  {
   "cell_type": "code",
   "execution_count": 6,
   "metadata": {},
   "outputs": [
    {
     "data": {
      "text/plain": [
       "(4622, 64)"
      ]
     },
     "execution_count": 6,
     "metadata": {},
     "output_type": "execute_result"
    }
   ],
   "source": [
    "mu_list = vae.encoder_mu_log_var.predict(observations)[0]\n",
    "mu_list.shape"
   ]
  },
  {
   "cell_type": "code",
   "execution_count": 7,
   "metadata": {},
   "outputs": [],
   "source": [
    "# https://jakevdp.github.io/PythonDataScienceHandbook/05.09-principal-component-analysis.html\n",
    "from sklearn.decomposition import PCA"
   ]
  },
  {
   "cell_type": "code",
   "execution_count": 8,
   "metadata": {},
   "outputs": [
    {
     "data": {
      "image/png": "[encoded data removed]",
      "text/plain": [
       "<Figure size 432x288 with 1 Axes>"
      ]
     },
     "metadata": {
      "needs_background": "light"
     },
     "output_type": "display_data"
    }
   ],
   "source": [
    "pca = PCA(n_components = 2)\n",
    "components = pca.fit_transform(mu_list)\n",
    "\n",
    "n = len(components)\n",
    "indices = np.random.choice(np.arange(n), n//5, replace=False) # reduce clutter for better view of the spread\n",
    "selection = components[indices, :]\n",
    "plt.scatter(selection[:, 0], selection[:, 1]);"
   ]
  },
  {
   "cell_type": "code",
   "execution_count": 9,
   "metadata": {},
   "outputs": [
    {
     "name": "stdout",
     "output_type": "stream",
     "text": [
      "[0.09958097 0.08677352]\n"
     ]
    }
   ],
   "source": [
    "# low explained variance ratio could imply that these points form \n",
    "# a sphere-like shape in 64-dimensions\n",
    "print(pca.explained_variance_ratio_)"
   ]
  },
  {
   "cell_type": "code",
   "execution_count": null,
   "metadata": {},
   "outputs": [],
   "source": []
  }
 ],
 "metadata": {
  "kernelspec": {
   "display_name": "Python 3",
   "language": "python",
   "name": "python3"
  },
  "language_info": {
   "codemirror_mode": {
    "name": "ipython",
    "version": 3
   },
   "file_extension": ".py",
   "mimetype": "text/x-python",
   "name": "python",
   "nbconvert_exporter": "python",
   "pygments_lexer": "ipython3",
   "version": "3.7.3"
  }
 },
 "nbformat": 4,
 "nbformat_minor": 2
}
